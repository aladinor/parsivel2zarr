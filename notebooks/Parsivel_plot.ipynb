{
 "cells": [
  {
   "cell_type": "code",
   "execution_count": 50,
   "id": "982ea2a8-eb31-4a33-b4f1-4c0c340550bd",
   "metadata": {},
   "outputs": [],
   "source": [
    "#!/usr/bin/env python3\n",
    "# -*- coding: utf-8 -*-\n",
    "import sys\n",
    "import os\n",
    "import glob\n",
    "import numpy as np\n",
    "import pandas as pd\n",
    "import dask.dataframe as dd\n",
    "import xarray as xr\n",
    "import matplotlib.pyplot as plt\n",
    "from re import split\n",
    "from dask_jobqueue import SLURMCluster\n",
    "from matplotlib.colors import LinearSegmentedColormap\n",
    "from dask.distributed import Client, progress\n",
    "from IPython.display import Image\n",
    "  \n",
    "\n",
    "import warnings\n",
    "\n",
    "warnings.filterwarnings('ignore')"
   ]
  },
  {
   "cell_type": "code",
   "execution_count": 7,
   "id": "0741c346-1ff1-411a-b738-971e3585a500",
   "metadata": {},
   "outputs": [],
   "source": [
    "sys.path.insert(1, f\"{os.path.abspath(os.path.join(os.path.abspath(''), '../'))}\")\n",
    "from src.utils import get_pars_from_ini, make_dir\n",
    "\n",
    "location = split(', |_|-|!', os.popen('hostname').read())[0].replace(\"\\n\", \"\")\n",
    "path_proj = get_pars_from_ini(file_name='loc.ini')[location]['path_proj']\n",
    "path_data = get_pars_from_ini(file_name='loc.ini')[location]['path_data']"
   ]
  },
  {
   "cell_type": "code",
   "execution_count": 47,
   "id": "bf6ffe09-16bb-4b59-9d73-2a20dda18a50",
   "metadata": {},
   "outputs": [],
   "source": [
    "def get_eventst(ds, time_lenght=30, time_break=30, tot_counts=10):\n",
    "    \"\"\"\n",
    "    param ds: Xarray dataset with count bin (cnt_bin) matrix\n",
    "    param time_lenght: Minimum duration of the event\n",
    "    param time_break: Maximum duration of a time break between events\n",
    "    param tot_counts: Minimum total number of particles within the count bin spectra\n",
    "    \"\"\"\n",
    "    ev = ds.cnt_bin.sum('diameter').where(ds.cnt_bin.sum('diameter') > tot_counts)\n",
    "    ev = ev[ev.notnull()]\n",
    "    a = ev.time.diff('time').to_dataframe('date') \n",
    "    sec = pd.Timedelta('30S') \n",
    "    breaks = a >= sec\n",
    "    groups = breaks.cumsum()\n",
    "    start = [i[1].index.min() for i in groups.groupby('date') if i[1].shape[0] > time_lenght]\n",
    "    end = [i[1].index.max() for i in groups.groupby('date') if i[1].shape[0] > time_lenght]\n",
    "    return start, end\n",
    "\n",
    "def add_colorbar_outside(im, ax, label):\n",
    "    fig = ax.get_figure()\n",
    "    bbox = ax.get_position() #bbox contains the [x0 (left), y0 (bottom), x1 (right), y1 (top)] of the axis.\n",
    "    width = 0.01\n",
    "    eps = 0.06 #margin between plot and colorbar\n",
    "    # [left most position, bottom position, width, height] of color bar.\n",
    "    cax = fig.add_axes([bbox.x1 + eps, bbox.y0, width, bbox.height])\n",
    "    cbar = fig.colorbar(im, cax=cax, label=label)\n",
    "    \n",
    "    \n",
    "def pds_parameters(xr_data):\n",
    "    \"\"\"\n",
    "    Compute the psd parameters\n",
    "    :param xr_data: partice size distribution in # L-1 um-1\n",
    "    :return: list with lwc, dm, nw, z, and r\n",
    "    \"\"\"\n",
    "    lwc = (np.pi / (6 * 1000.)) * (xr_data.nd) * (xr_data.diameter) ** 3 * (xr_data.d_d * 1e-3)\n",
    "    m4 = (xr_data.psd * 1e6) * (xr_data.diameter * 1e-3) ** 4 * xr_data.d_d * 1e-3\n",
    "    m3 = (xr_data.psd * 1e6) * (xr_data.diameter * 1e-3) ** 3 * xr_data.d_d * 1e-3\n",
    "    dm = m4.sum('diameter') / m3.sum('diameter')\n",
    "    z = xr_data.psd * 1e6 * (xr_data.diameter * 1e-3) ** 6 * xr_data.d_d\n",
    "    nw = 1e3 * (4 ** 4 / np.pi) * (lwc.sum('diameter') / dm ** 4)\n",
    "    params = lwc.to_dataset(name='lwc')\n",
    "    params['dm'] = dm\n",
    "    params['z'] = z\n",
    "    params['nw'] = nw\n",
    "    return params"
   ]
  },
  {
   "cell_type": "code",
   "execution_count": 4,
   "id": "b08c9328-e7f6-4fbf-bc2c-8cf6d29d81eb",
   "metadata": {},
   "outputs": [
    {
     "data": {
      "text/html": [
       "<div class=\"jp-RenderedHTMLCommon jp-RenderedHTML jp-mod-trusted jp-OutputArea-output\">\n",
       "    <div style=\"width: 24px; height: 24px; background-color: #e1e1e1; border: 3px solid #9D9D9D; border-radius: 5px; position: absolute;\">\n",
       "    </div>\n",
       "    <div style=\"margin-left: 48px;\">\n",
       "        <h3 style=\"margin-bottom: 0px; margin-top: 0px;\">SLURMCluster</h3>\n",
       "        <p style=\"color: #9D9D9D; margin-bottom: 0px;\">0fa687bf</p>\n",
       "        <table style=\"width: 100%; text-align: left;\">\n",
       "            <tr>\n",
       "                <td style=\"text-align: left;\">\n",
       "                    <strong>Dashboard:</strong> <a href=\"/proxy/7799/status\" target=\"_blank\">/proxy/7799/status</a>\n",
       "                </td>\n",
       "                <td style=\"text-align: left;\">\n",
       "                    <strong>Workers:</strong> 0\n",
       "                </td>\n",
       "            </tr>\n",
       "            <tr>\n",
       "                <td style=\"text-align: left;\">\n",
       "                    <strong>Total threads:</strong> 0\n",
       "                </td>\n",
       "                <td style=\"text-align: left;\">\n",
       "                    <strong>Total memory:</strong> 0 B\n",
       "                </td>\n",
       "            </tr>\n",
       "            \n",
       "        </table>\n",
       "\n",
       "        <details>\n",
       "            <summary style=\"margin-bottom: 20px;\">\n",
       "                <h3 style=\"display: inline;\">Scheduler Info</h3>\n",
       "            </summary>\n",
       "\n",
       "            <div style=\"\">\n",
       "    <div>\n",
       "        <div style=\"width: 24px; height: 24px; background-color: #FFF7E5; border: 3px solid #FF6132; border-radius: 5px; position: absolute;\"> </div>\n",
       "        <div style=\"margin-left: 48px;\">\n",
       "            <h3 style=\"margin-bottom: 0px;\">Scheduler</h3>\n",
       "            <p style=\"color: #9D9D9D; margin-bottom: 0px;\">Scheduler-467d7cec-5c70-4487-91b8-d515f0bfd8ad</p>\n",
       "            <table style=\"width: 100%; text-align: left;\">\n",
       "                <tr>\n",
       "                    <td style=\"text-align: left;\">\n",
       "                        <strong>Comm:</strong> tcp://172.22.179.3:7223\n",
       "                    </td>\n",
       "                    <td style=\"text-align: left;\">\n",
       "                        <strong>Workers:</strong> 0\n",
       "                    </td>\n",
       "                </tr>\n",
       "                <tr>\n",
       "                    <td style=\"text-align: left;\">\n",
       "                        <strong>Dashboard:</strong> <a href=\"/proxy/7799/status\" target=\"_blank\">/proxy/7799/status</a>\n",
       "                    </td>\n",
       "                    <td style=\"text-align: left;\">\n",
       "                        <strong>Total threads:</strong> 0\n",
       "                    </td>\n",
       "                </tr>\n",
       "                <tr>\n",
       "                    <td style=\"text-align: left;\">\n",
       "                        <strong>Started:</strong> Just now\n",
       "                    </td>\n",
       "                    <td style=\"text-align: left;\">\n",
       "                        <strong>Total memory:</strong> 0 B\n",
       "                    </td>\n",
       "                </tr>\n",
       "            </table>\n",
       "        </div>\n",
       "    </div>\n",
       "\n",
       "    <details style=\"margin-left: 48px;\">\n",
       "        <summary style=\"margin-bottom: 20px;\">\n",
       "            <h3 style=\"display: inline;\">Workers</h3>\n",
       "        </summary>\n",
       "\n",
       "        \n",
       "\n",
       "    </details>\n",
       "</div>\n",
       "\n",
       "        </details>\n",
       "    </div>\n",
       "</div>"
      ],
      "text/plain": [
       "SLURMCluster(0fa687bf, 'tcp://172.22.179.3:7223', workers=0, threads=0, memory=0 B)"
      ]
     },
     "metadata": {},
     "output_type": "display_data"
    }
   ],
   "source": [
    "cluster = SLURMCluster(queue=\"seseml\",\n",
    "                       memory='10GB',\n",
    "                       cores=40,\n",
    "                       processes=1,\n",
    "                       walltime='24:00:00',\n",
    "                       scheduler_options={'host': '172.22.179.3:7223', 'dashboard_address': ':7799'})\n",
    "\n",
    "cluster.scale(jobs=4)\n",
    "cluster"
   ]
  },
  {
   "cell_type": "code",
   "execution_count": 5,
   "id": "bbe8ed5a-e9fd-47f9-8eff-7c64bf775737",
   "metadata": {},
   "outputs": [
    {
     "data": {
      "text/html": [
       "<div>\n",
       "    <div style=\"width: 24px; height: 24px; background-color: #e1e1e1; border: 3px solid #9D9D9D; border-radius: 5px; position: absolute;\"> </div>\n",
       "    <div style=\"margin-left: 48px;\">\n",
       "        <h3 style=\"margin-bottom: 0px;\">Client</h3>\n",
       "        <p style=\"color: #9D9D9D; margin-bottom: 0px;\">Client-1fd2c6a3-521f-11ed-8a5b-b083fed70206</p>\n",
       "        <table style=\"width: 100%; text-align: left;\">\n",
       "\n",
       "        <tr>\n",
       "        \n",
       "            <td style=\"text-align: left;\"><strong>Connection method:</strong> Cluster object</td>\n",
       "            <td style=\"text-align: left;\"><strong>Cluster type:</strong> dask_jobqueue.SLURMCluster</td>\n",
       "        \n",
       "        </tr>\n",
       "\n",
       "        \n",
       "            <tr>\n",
       "                <td style=\"text-align: left;\">\n",
       "                    <strong>Dashboard: </strong> <a href=\"/proxy/7799/status\" target=\"_blank\">/proxy/7799/status</a>\n",
       "                </td>\n",
       "                <td style=\"text-align: left;\"></td>\n",
       "            </tr>\n",
       "        \n",
       "\n",
       "        </table>\n",
       "\n",
       "        \n",
       "            <details>\n",
       "            <summary style=\"margin-bottom: 20px;\"><h3 style=\"display: inline;\">Cluster Info</h3></summary>\n",
       "            <div class=\"jp-RenderedHTMLCommon jp-RenderedHTML jp-mod-trusted jp-OutputArea-output\">\n",
       "    <div style=\"width: 24px; height: 24px; background-color: #e1e1e1; border: 3px solid #9D9D9D; border-radius: 5px; position: absolute;\">\n",
       "    </div>\n",
       "    <div style=\"margin-left: 48px;\">\n",
       "        <h3 style=\"margin-bottom: 0px; margin-top: 0px;\">SLURMCluster</h3>\n",
       "        <p style=\"color: #9D9D9D; margin-bottom: 0px;\">0fa687bf</p>\n",
       "        <table style=\"width: 100%; text-align: left;\">\n",
       "            <tr>\n",
       "                <td style=\"text-align: left;\">\n",
       "                    <strong>Dashboard:</strong> <a href=\"/proxy/7799/status\" target=\"_blank\">/proxy/7799/status</a>\n",
       "                </td>\n",
       "                <td style=\"text-align: left;\">\n",
       "                    <strong>Workers:</strong> 0\n",
       "                </td>\n",
       "            </tr>\n",
       "            <tr>\n",
       "                <td style=\"text-align: left;\">\n",
       "                    <strong>Total threads:</strong> 0\n",
       "                </td>\n",
       "                <td style=\"text-align: left;\">\n",
       "                    <strong>Total memory:</strong> 0 B\n",
       "                </td>\n",
       "            </tr>\n",
       "            \n",
       "        </table>\n",
       "\n",
       "        <details>\n",
       "            <summary style=\"margin-bottom: 20px;\">\n",
       "                <h3 style=\"display: inline;\">Scheduler Info</h3>\n",
       "            </summary>\n",
       "\n",
       "            <div style=\"\">\n",
       "    <div>\n",
       "        <div style=\"width: 24px; height: 24px; background-color: #FFF7E5; border: 3px solid #FF6132; border-radius: 5px; position: absolute;\"> </div>\n",
       "        <div style=\"margin-left: 48px;\">\n",
       "            <h3 style=\"margin-bottom: 0px;\">Scheduler</h3>\n",
       "            <p style=\"color: #9D9D9D; margin-bottom: 0px;\">Scheduler-467d7cec-5c70-4487-91b8-d515f0bfd8ad</p>\n",
       "            <table style=\"width: 100%; text-align: left;\">\n",
       "                <tr>\n",
       "                    <td style=\"text-align: left;\">\n",
       "                        <strong>Comm:</strong> tcp://172.22.179.3:7223\n",
       "                    </td>\n",
       "                    <td style=\"text-align: left;\">\n",
       "                        <strong>Workers:</strong> 0\n",
       "                    </td>\n",
       "                </tr>\n",
       "                <tr>\n",
       "                    <td style=\"text-align: left;\">\n",
       "                        <strong>Dashboard:</strong> <a href=\"/proxy/7799/status\" target=\"_blank\">/proxy/7799/status</a>\n",
       "                    </td>\n",
       "                    <td style=\"text-align: left;\">\n",
       "                        <strong>Total threads:</strong> 0\n",
       "                    </td>\n",
       "                </tr>\n",
       "                <tr>\n",
       "                    <td style=\"text-align: left;\">\n",
       "                        <strong>Started:</strong> Just now\n",
       "                    </td>\n",
       "                    <td style=\"text-align: left;\">\n",
       "                        <strong>Total memory:</strong> 0 B\n",
       "                    </td>\n",
       "                </tr>\n",
       "            </table>\n",
       "        </div>\n",
       "    </div>\n",
       "\n",
       "    <details style=\"margin-left: 48px;\">\n",
       "        <summary style=\"margin-bottom: 20px;\">\n",
       "            <h3 style=\"display: inline;\">Workers</h3>\n",
       "        </summary>\n",
       "\n",
       "        \n",
       "\n",
       "    </details>\n",
       "</div>\n",
       "\n",
       "        </details>\n",
       "    </div>\n",
       "</div>\n",
       "            </details>\n",
       "        \n",
       "\n",
       "    </div>\n",
       "</div>"
      ],
      "text/plain": [
       "<Client: 'tcp://172.22.179.3:7223' processes=0 threads=0, memory=0 B>"
      ]
     },
     "execution_count": 5,
     "metadata": {},
     "output_type": "execute_result"
    }
   ],
   "source": [
    "client = Client(cluster)\n",
    "client"
   ]
  },
  {
   "cell_type": "code",
   "execution_count": 8,
   "id": "15c76e8e-3f9a-4be0-b13b-108678669505",
   "metadata": {},
   "outputs": [
    {
     "name": "stdout",
     "output_type": "stream",
     "text": [
      "             JOBID PARTITION     NAME     USER ST       TIME  NODES NODELIST(REASON)\n",
      "           1082614    seseml dask-wor alfonso8  R      15:39      1 keeling-j01\n",
      "           1082615    seseml dask-wor alfonso8  R      15:39      1 keeling-j02\n",
      "           1082616    seseml dask-wor alfonso8  R      15:39      1 keeling-j03\n",
      "           1082617    seseml dask-wor alfonso8  R      15:39      1 keeling-j04\n"
     ]
    }
   ],
   "source": [
    "%%bash\n",
    "squeue -u $USER"
   ]
  },
  {
   "cell_type": "code",
   "execution_count": 11,
   "id": "c40e9f56-b4e0-4a23-bf27-906c4e108b81",
   "metadata": {},
   "outputs": [],
   "source": [
    "store = f\"{path_data}/parsivel/zarr\""
   ]
  },
  {
   "cell_type": "code",
   "execution_count": 12,
   "id": "3a3d80d8-5711-48a3-8199-190b36a90ee6",
   "metadata": {},
   "outputs": [],
   "source": [
    "ds_par = xr.open_zarr(store)"
   ]
  },
  {
   "cell_type": "code",
   "execution_count": 22,
   "id": "c15faea8-43c5-4790-8788-30ddcb6ead84",
   "metadata": {},
   "outputs": [
    {
     "data": {
      "text/plain": [
       "Text(0.5, 0, 'time')"
      ]
     },
     "execution_count": 22,
     "metadata": {},
     "output_type": "execute_result"
    },
    {
     "data": {
      "image/png": "[encoded data removed]",
      "text/plain": [
       "<Figure size 1200x400 with 2 Axes>"
      ]
     },
     "metadata": {},
     "output_type": "display_data"
    }
   ],
   "source": [
    "fig, ax = plt.subplots(figsize=(12, 4))\n",
    "ax.plot(ds_par.time, ds_par.r_int)\n",
    "ax1 = ax.twinx()\n",
    "ax1.plot(ds_par.time, ds_par.r_acc)\n",
    "ax.set_ylabel('Intensity (mm/hr)')\n",
    "ax1.set_ylabel('Rain Accumulation (mm)')\n",
    "ax.set_xlabel('time')"
   ]
  },
  {
   "cell_type": "code",
   "execution_count": 25,
   "id": "e3ebcaa6-432e-4a25-a677-1919d9821e96",
   "metadata": {},
   "outputs": [],
   "source": [
    "cdict = {'red': ((0., 1, 1),\n",
    "                 (0.05, 1, 1),\n",
    "                 (0.11, 0, 0),\n",
    "                 (0.66, 1, 1),\n",
    "                 (0.89, 1, 1),\n",
    "                 (1, 0.5, 0.5)),\n",
    "         'green': ((0., 1, 1),\n",
    "                   (0.05, 1, 1),\n",
    "                   (0.11, 0, 0),\n",
    "                   (0.375, 1, 1),\n",
    "                   (0.64, 1, 1),\n",
    "                   (0.91, 0, 0),\n",
    "                   (1, 0, 0)),\n",
    "         'blue': ((0., 1, 1),\n",
    "                  (0.05, 1, 1),\n",
    "                  (0.11, 1, 1),\n",
    "                  (0.34, 1, 1),\n",
    "                  (0.65, 0, 0),\n",
    "                  (1, 0, 0))}\n",
    "\n",
    "my_cmap = LinearSegmentedColormap('my_colormap', cdict, 256)"
   ]
  },
  {
   "cell_type": "code",
   "execution_count": 44,
   "id": "5209a688-c35e-4a77-a7db-abf5eb5fe903",
   "metadata": {},
   "outputs": [],
   "source": [
    "ds_set = ds_par.sel(time=slice('2021-10-08 01:30', '2021-10-08 03:30'))"
   ]
  },
  {
   "cell_type": "code",
   "execution_count": 48,
   "id": "681673da-05d2-4007-84b4-e32d5b853d4f",
   "metadata": {},
   "outputs": [
    {
     "data": {
      "image/png": "[encoded data removed]",
      "text/plain": [
       "<Figure size 1500x450 with 2 Axes>"
      ]
     },
     "metadata": {},
     "output_type": "display_data"
    }
   ],
   "source": [
    "fig, ax0 = plt.subplots(figsize=(10, 3), dpi=150)\n",
    "\n",
    "cbar = ax0.pcolormesh(ds_set.time.values, \n",
    "                      ds_set.diameter, \n",
    "                      np.log10(ds_set.nd.T.values), \n",
    "                      vmin=0, vmax=1, cmap=my_cmap, shading='nearest')\n",
    "ax0.set_yscale('log')\n",
    "ax0.set_ylim(0.1, 10)\n",
    "ax0.set_xlabel('Time')\n",
    "ax0.set_ylabel('Diameter (mm)')\n",
    "add_colorbar_outside(cbar, ax0, 'Log10(N(D))')"
   ]
  },
  {
   "cell_type": "markdown",
   "id": "0ff09f3a-e6c9-47af-8a05-4da8e24f6d2b",
   "metadata": {},
   "source": [
    "### Potential 1 minute resolution (not the same plot, just for reference)\n",
    "<div class=\"center\">\n",
    "<img src=\"../figs/download.png\" width=\"1000\"/>\n",
    "</div>\n"
   ]
  },
  {
   "cell_type": "markdown",
   "id": "a2d88c3a-d307-4e17-b492-ed750a75488f",
   "metadata": {},
   "source": []
  }
 ],
 "metadata": {
  "kernelspec": {
   "display_name": "Python 3 (ipykernel)",
   "language": "python",
   "name": "python3"
  },
  "language_info": {
   "codemirror_mode": {
    "name": "ipython",
    "version": 3
   },
   "file_extension": ".py",
   "mimetype": "text/x-python",
   "name": "python",
   "nbconvert_exporter": "python",
   "pygments_lexer": "ipython3",
   "version": "3.9.13"
  }
 },
 "nbformat": 4,
 "nbformat_minor": 5
}
